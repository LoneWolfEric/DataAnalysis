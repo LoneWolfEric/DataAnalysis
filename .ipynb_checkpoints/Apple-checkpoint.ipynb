{
 "cells": [
  {
   "cell_type": "code",
   "execution_count": 29,
   "metadata": {},
   "outputs": [],
   "source": [
    "import numpy as np\n",
    "import pandas as pd\n",
    "from pandas import Series,DataFrame\n",
    "import matplotlib.pyplot as plt\n",
    "%matplotlib inline"
   ]
  },
  {
   "cell_type": "code",
   "execution_count": 19,
   "metadata": {},
   "outputs": [
    {
     "data": {
      "text/html": [
       "<div>\n",
       "<style scoped>\n",
       "    .dataframe tbody tr th:only-of-type {\n",
       "        vertical-align: middle;\n",
       "    }\n",
       "\n",
       "    .dataframe tbody tr th {\n",
       "        vertical-align: top;\n",
       "    }\n",
       "\n",
       "    .dataframe thead th {\n",
       "        text-align: right;\n",
       "    }\n",
       "</style>\n",
       "<table border=\"1\" class=\"dataframe\">\n",
       "  <thead>\n",
       "    <tr style=\"text-align: right;\">\n",
       "      <th></th>\n",
       "      <th>Date</th>\n",
       "      <th>Open</th>\n",
       "      <th>High</th>\n",
       "      <th>Low</th>\n",
       "      <th>Close</th>\n",
       "      <th>Adj Close</th>\n",
       "      <th>Volume</th>\n",
       "    </tr>\n",
       "  </thead>\n",
       "  <tbody>\n",
       "    <tr>\n",
       "      <th>0</th>\n",
       "      <td>2018-09-17</td>\n",
       "      <td>222.149994</td>\n",
       "      <td>222.949997</td>\n",
       "      <td>217.270004</td>\n",
       "      <td>217.880005</td>\n",
       "      <td>217.880005</td>\n",
       "      <td>37195100</td>\n",
       "    </tr>\n",
       "    <tr>\n",
       "      <th>1</th>\n",
       "      <td>2018-09-18</td>\n",
       "      <td>217.789993</td>\n",
       "      <td>221.850006</td>\n",
       "      <td>217.119995</td>\n",
       "      <td>218.240005</td>\n",
       "      <td>218.240005</td>\n",
       "      <td>31571700</td>\n",
       "    </tr>\n",
       "    <tr>\n",
       "      <th>2</th>\n",
       "      <td>2018-09-19</td>\n",
       "      <td>218.500000</td>\n",
       "      <td>219.619995</td>\n",
       "      <td>215.300003</td>\n",
       "      <td>218.369995</td>\n",
       "      <td>218.369995</td>\n",
       "      <td>27123800</td>\n",
       "    </tr>\n",
       "    <tr>\n",
       "      <th>3</th>\n",
       "      <td>2018-09-20</td>\n",
       "      <td>220.240005</td>\n",
       "      <td>222.279999</td>\n",
       "      <td>219.149994</td>\n",
       "      <td>220.029999</td>\n",
       "      <td>220.029999</td>\n",
       "      <td>26608800</td>\n",
       "    </tr>\n",
       "    <tr>\n",
       "      <th>4</th>\n",
       "      <td>2018-09-21</td>\n",
       "      <td>220.779999</td>\n",
       "      <td>221.360001</td>\n",
       "      <td>217.289993</td>\n",
       "      <td>217.660004</td>\n",
       "      <td>217.660004</td>\n",
       "      <td>96246700</td>\n",
       "    </tr>\n",
       "  </tbody>\n",
       "</table>\n",
       "</div>"
      ],
      "text/plain": [
       "         Date        Open        High         Low       Close   Adj Close  \\\n",
       "0  2018-09-17  222.149994  222.949997  217.270004  217.880005  217.880005   \n",
       "1  2018-09-18  217.789993  221.850006  217.119995  218.240005  218.240005   \n",
       "2  2018-09-19  218.500000  219.619995  215.300003  218.369995  218.369995   \n",
       "3  2018-09-20  220.240005  222.279999  219.149994  220.029999  220.029999   \n",
       "4  2018-09-21  220.779999  221.360001  217.289993  217.660004  217.660004   \n",
       "\n",
       "     Volume  \n",
       "0  37195100  \n",
       "1  31571700  \n",
       "2  27123800  \n",
       "3  26608800  \n",
       "4  96246700  "
      ]
     },
     "execution_count": 19,
     "metadata": {},
     "output_type": "execute_result"
    }
   ],
   "source": [
    "apple = pd.read_csv('AAPL.csv')\n",
    "apple.head()"
   ]
  },
  {
   "cell_type": "code",
   "execution_count": 16,
   "metadata": {},
   "outputs": [
    {
     "data": {
      "text/plain": [
       "Date         datetime64[ns]\n",
       "Open                float64\n",
       "High                float64\n",
       "Low                 float64\n",
       "Close               float64\n",
       "Adj Close           float64\n",
       "Volume                int64\n",
       "dtype: object"
      ]
     },
     "execution_count": 16,
     "metadata": {},
     "output_type": "execute_result"
    }
   ],
   "source": [
    " apple.dtypes"
   ]
  },
  {
   "cell_type": "code",
   "execution_count": 13,
   "metadata": {},
   "outputs": [
    {
     "data": {
      "text/plain": [
       "(22, 7)"
      ]
     },
     "execution_count": 13,
     "metadata": {},
     "output_type": "execute_result"
    }
   ],
   "source": [
    "apple.shape"
   ]
  },
  {
   "cell_type": "code",
   "execution_count": 17,
   "metadata": {},
   "outputs": [],
   "source": [
    "# to_datetime can transport object into time\n",
    "apple['Date'] = pd.to_datetime(apple['Date'])"
   ]
  },
  {
   "cell_type": "code",
   "execution_count": 22,
   "metadata": {},
   "outputs": [
    {
     "data": {
      "text/html": [
       "<div>\n",
       "<style scoped>\n",
       "    .dataframe tbody tr th:only-of-type {\n",
       "        vertical-align: middle;\n",
       "    }\n",
       "\n",
       "    .dataframe tbody tr th {\n",
       "        vertical-align: top;\n",
       "    }\n",
       "\n",
       "    .dataframe thead th {\n",
       "        text-align: right;\n",
       "    }\n",
       "</style>\n",
       "<table border=\"1\" class=\"dataframe\">\n",
       "  <thead>\n",
       "    <tr style=\"text-align: right;\">\n",
       "      <th></th>\n",
       "      <th>Open</th>\n",
       "      <th>High</th>\n",
       "      <th>Low</th>\n",
       "      <th>Close</th>\n",
       "      <th>Adj Close</th>\n",
       "      <th>Volume</th>\n",
       "    </tr>\n",
       "    <tr>\n",
       "      <th>Date</th>\n",
       "      <th></th>\n",
       "      <th></th>\n",
       "      <th></th>\n",
       "      <th></th>\n",
       "      <th></th>\n",
       "      <th></th>\n",
       "    </tr>\n",
       "  </thead>\n",
       "  <tbody>\n",
       "    <tr>\n",
       "      <th>2018-09-17</th>\n",
       "      <td>222.149994</td>\n",
       "      <td>222.949997</td>\n",
       "      <td>217.270004</td>\n",
       "      <td>217.880005</td>\n",
       "      <td>217.880005</td>\n",
       "      <td>37195100</td>\n",
       "    </tr>\n",
       "    <tr>\n",
       "      <th>2018-09-18</th>\n",
       "      <td>217.789993</td>\n",
       "      <td>221.850006</td>\n",
       "      <td>217.119995</td>\n",
       "      <td>218.240005</td>\n",
       "      <td>218.240005</td>\n",
       "      <td>31571700</td>\n",
       "    </tr>\n",
       "    <tr>\n",
       "      <th>2018-09-19</th>\n",
       "      <td>218.500000</td>\n",
       "      <td>219.619995</td>\n",
       "      <td>215.300003</td>\n",
       "      <td>218.369995</td>\n",
       "      <td>218.369995</td>\n",
       "      <td>27123800</td>\n",
       "    </tr>\n",
       "    <tr>\n",
       "      <th>2018-09-20</th>\n",
       "      <td>220.240005</td>\n",
       "      <td>222.279999</td>\n",
       "      <td>219.149994</td>\n",
       "      <td>220.029999</td>\n",
       "      <td>220.029999</td>\n",
       "      <td>26608800</td>\n",
       "    </tr>\n",
       "    <tr>\n",
       "      <th>2018-09-21</th>\n",
       "      <td>220.779999</td>\n",
       "      <td>221.360001</td>\n",
       "      <td>217.289993</td>\n",
       "      <td>217.660004</td>\n",
       "      <td>217.660004</td>\n",
       "      <td>96246700</td>\n",
       "    </tr>\n",
       "  </tbody>\n",
       "</table>\n",
       "</div>"
      ],
      "text/plain": [
       "                  Open        High         Low       Close   Adj Close  \\\n",
       "Date                                                                     \n",
       "2018-09-17  222.149994  222.949997  217.270004  217.880005  217.880005   \n",
       "2018-09-18  217.789993  221.850006  217.119995  218.240005  218.240005   \n",
       "2018-09-19  218.500000  219.619995  215.300003  218.369995  218.369995   \n",
       "2018-09-20  220.240005  222.279999  219.149994  220.029999  220.029999   \n",
       "2018-09-21  220.779999  221.360001  217.289993  217.660004  217.660004   \n",
       "\n",
       "              Volume  \n",
       "Date                  \n",
       "2018-09-17  37195100  \n",
       "2018-09-18  31571700  \n",
       "2018-09-19  27123800  \n",
       "2018-09-20  26608800  \n",
       "2018-09-21  96246700  "
      ]
     },
     "execution_count": 22,
     "metadata": {},
     "output_type": "execute_result"
    }
   ],
   "source": [
    "apple.set_index('Date').head()"
   ]
  },
  {
   "cell_type": "code",
   "execution_count": 25,
   "metadata": {},
   "outputs": [
    {
     "data": {
      "text/plain": [
       "<matplotlib.axes._subplots.AxesSubplot at 0x7fc4e69649b0>"
      ]
     },
     "execution_count": 25,
     "metadata": {},
     "output_type": "execute_result"
    },
    {
     "data": {
      "image/png": "[encoded data removed]",
      "text/plain": [
       "<Figure size 432x288 with 1 Axes>"
      ]
     },
     "metadata": {
      "needs_background": "light"
     },
     "output_type": "display_data"
    }
   ],
   "source": [
    "apple['Adj Close'].plot()"
   ]
  },
  {
   "cell_type": "code",
   "execution_count": 31,
   "metadata": {},
   "outputs": [
    {
     "data": {
      "text/plain": [
       "[<matplotlib.lines.Line2D at 0x7fc4e6516c18>]"
      ]
     },
     "execution_count": 31,
     "metadata": {},
     "output_type": "execute_result"
    },
    {
     "data": {
      "image/png": "[encoded data removed]",
      "text/plain": [
       "<Figure size 432x288 with 1 Axes>"
      ]
     },
     "metadata": {
      "needs_background": "light"
     },
     "output_type": "display_data"
    }
   ],
   "source": [
    "plt.plot(apple['Adj Close'])"
   ]
  }
 ],
 "metadata": {
  "kernelspec": {
   "display_name": "Python 3",
   "language": "python",
   "name": "python3"
  },
  "language_info": {
   "codemirror_mode": {
    "name": "ipython",
    "version": 3
   },
   "file_extension": ".py",
   "mimetype": "text/x-python",
   "name": "python",
   "nbconvert_exporter": "python",
   "pygments_lexer": "ipython3",
   "version": "3.6.6"
  }
 },
 "nbformat": 4,
 "nbformat_minor": 2
}
